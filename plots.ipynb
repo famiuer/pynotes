{
 "cells": [
  {
   "cell_type": "markdown",
   "source": [
    "# Scatter plot"
   ],
   "metadata": {}
  },
  {
   "cell_type": "code",
   "execution_count": null,
   "source": [
    "import matplotlib.pyplot as plt \n",
    "from scipy.stats import gaussian_kde\n",
    "from mpl_toolkits.axes_grid1 import make_axes_locatable\n",
    "import numpy as np\n",
    "\n",
    "x = np.random.normal(size=1000)\n",
    "y = np.random.normal(size=1000)\n",
    "\n",
    "xy = np.vstack([x,y])\n",
    "z = gaussian_kde(xy)(xy)\n",
    "idx = z.argsort()\n",
    "x, y, z = x[idx], y[idx], z[idx]\n",
    "fig, ax = plt.subplots(figsize=(7,5),dpi=100)\n",
    "maxNum = max(x)\n",
    "minNum = min(x)\n",
    "ax.plot(x, x, color='r', linewidth=1)#reference line\n",
    "plt.xlim(minNum, maxNum)\n",
    "plt.ylim(minNum, maxNum)\n",
    "#Least squares fit\n",
    "\n",
    "xcord = x\n",
    "ycord = y\n",
    "\n",
    "m = ((xcord*ycord).mean() - xcord.mean()* ycord.mean())/(pow(xcord,2).mean()-pow(xcord.mean(),2))\n",
    "\n",
    "c = ycord.mean() - m*xcord.mean()\n",
    "# Plot\n",
    "y1=m*x+c  \n",
    "scatter=ax.scatter(x,y,marker='o',c=z,edgecolors='none',s=15,label='LST',cmap='Spectral_r')\n",
    "divider=make_axes_locatable(ax)\n",
    "cax = divider.append_axes(\"right\",size=\"3%\",pad=0.1)\n",
    "cbar = fig.colorbar(scatter, cax=cax, label='frequency')\n",
    "cbar = fig.colorbar(scatter,cax=cax,extend='both',aspect=30,fraction=.03,pad=0.01)\n",
    "#\n",
    "\n",
    "\n",
    "# plt.savefig('plot82.1.png',dpi=800,bbox_inches='tight',pad_inches=0)\n",
    "plt.show()\n"
   ],
   "outputs": [],
   "metadata": {}
  },
  {
   "cell_type": "code",
   "execution_count": null,
   "source": [],
   "outputs": [],
   "metadata": {}
  }
 ],
 "metadata": {
  "kernelspec": {
   "name": "python3",
   "display_name": "Python 3.9.4 64-bit ('metocean': conda)"
  },
  "language_info": {
   "codemirror_mode": {
    "name": "ipython",
    "version": 3
   },
   "file_extension": ".py",
   "mimetype": "text/x-python",
   "name": "python",
   "nbconvert_exporter": "python",
   "pygments_lexer": "ipython3",
   "version": "3.9.4"
  },
  "interpreter": {
   "hash": "d392f8be18b99e88ebf22ff66574448775b449f80db21cff78aa0a55d04d5114"
  }
 },
 "nbformat": 4,
 "nbformat_minor": 4
}