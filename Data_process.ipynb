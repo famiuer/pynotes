{
 "cells": [
  {
   "cell_type": "markdown",
   "source": [
    "# 3D interpolation with time or 4D interpolation\n"
   ],
   "metadata": {}
  },
  {
   "cell_type": "code",
   "execution_count": 2,
   "source": [
    "import cartopy.crs\n",
    "import matplotlib\n",
    "import matplotlib.pyplot\n",
    "import numpy\n",
    "import pyinterp\n",
    "import pyinterp.backends.xarray\n",
    "import xarray\n",
    "import warnings\n",
    "warnings.filterwarnings('ignore')"
   ],
   "outputs": [],
   "metadata": {}
  },
  {
   "cell_type": "code",
   "execution_count": null,
   "source": [
    "ds = xarray.open_dataset(\"pres_temp_4D.nc\")\n",
    "interpolator = pyinterp.backends.xarray.Grid4D(ds.pressure)"
   ],
   "outputs": [],
   "metadata": {}
  },
  {
   "cell_type": "code",
   "execution_count": null,
   "source": [
    "mx, my, mz, mu = numpy.meshgrid(numpy.arange(-125, -70, 0.5),\n",
    "                                numpy.arange(25, 50, 0.5),\n",
    "                                numpy.datetime64(\"2000-01-01T12:00\"),\n",
    "                                0.5,\n",
    "                                indexing=\"ij\")"
   ],
   "outputs": [],
   "metadata": {}
  },
  {
   "cell_type": "code",
   "execution_count": null,
   "source": [
    "quadrivariate = interpolator.quadrivariate(\n",
    "    dict(longitude=mx.flatten(),\n",
    "         latitude=my.flatten(),\n",
    "         time=mz.flatten(),\n",
    "         level=mu.flatten())).reshape(mx.shape)"
   ],
   "outputs": [],
   "metadata": {}
  },
  {
   "cell_type": "code",
   "execution_count": null,
   "source": [
    "interpolator = pyinterp.backends.xarray.Grid4D(ds.pressure, increasing_axes=True)\n",
    "bicubic = interpolator.bicubic(dict(longitude=mx.flatten(),\n",
    "                                    latitude=my.flatten(),\n",
    "                                    time=mz.flatten(),\n",
    "                                    level=mu.flatten()),\n",
    "                               nx=2,\n",
    "                               ny=2).reshape(mx.shape)"
   ],
   "outputs": [],
   "metadata": {}
  },
  {
   "cell_type": "code",
   "execution_count": null,
   "source": [
    "quadrivariate = quadrivariate.squeeze(axis=(2, 3))\n",
    "bicubic = bicubic.squeeze(axis=(2, 3))\n",
    "lons = mx[:, 0].squeeze()\n",
    "lats = my[0, :].squeeze()"
   ],
   "outputs": [],
   "metadata": {}
  },
  {
   "cell_type": "code",
   "execution_count": null,
   "source": [
    "fig = matplotlib.pyplot.figure(figsize=(5, 4))\n",
    "ax1 = fig.add_subplot(211, projection=cartopy.crs.PlateCarree(central_longitude=180))\n",
    "pcm = ax1.pcolormesh(lons,\n",
    "                     lats,\n",
    "                     quadrivariate.T,\n",
    "                     cmap='jet',\n",
    "                     transform=cartopy.crs.PlateCarree())\n",
    "ax1.coastlines()\n",
    "ax1.set_title(\"Trilinear\")\n",
    "\n",
    "ax2 = fig.add_subplot(212, projection=cartopy.crs.PlateCarree(central_longitude=180))\n",
    "pcm = ax2.pcolormesh(lons,\n",
    "                     lats,\n",
    "                     bicubic.T,\n",
    "                     cmap='jet',\n",
    "                     transform=cartopy.crs.PlateCarree())\n",
    "ax2.coastlines()\n",
    "ax2.set_title(\"Spline & Linear in time\")\n",
    "fig.colorbar(pcm, ax=[ax1, ax2], shrink=0.8)\n",
    "fig.show()"
   ],
   "outputs": [],
   "metadata": {}
  },
  {
   "cell_type": "markdown",
   "source": [
    "# Empirical Orthogonal Function (EOF) analysis "
   ],
   "metadata": {}
  },
  {
   "cell_type": "code",
   "execution_count": null,
   "source": [
    "from pyEOF import *\n",
    "import xarray as xr\n",
    "import numpy as np\n",
    "import pandas as pd\n",
    "import matplotlib.pyplot as plt"
   ],
   "outputs": [],
   "metadata": {}
  },
  {
   "cell_type": "code",
   "execution_count": null,
   "source": [],
   "outputs": [],
   "metadata": {}
  },
  {
   "cell_type": "code",
   "execution_count": null,
   "source": [],
   "outputs": [],
   "metadata": {}
  }
 ],
 "metadata": {
  "kernelspec": {
   "name": "python3",
   "display_name": "Python 3.9.4 64-bit ('unidata': conda)"
  },
  "language_info": {
   "codemirror_mode": {
    "name": "ipython",
    "version": 3
   },
   "file_extension": ".py",
   "mimetype": "text/x-python",
   "name": "python",
   "nbconvert_exporter": "python",
   "pygments_lexer": "ipython3",
   "version": "3.9.4"
  },
  "interpreter": {
   "hash": "bf63197e18615f05776a70b419d88392e376dd812557271e8682981eca3cdf9c"
  }
 },
 "nbformat": 4,
 "nbformat_minor": 4
}